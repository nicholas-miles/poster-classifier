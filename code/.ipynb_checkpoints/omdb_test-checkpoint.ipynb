{
 "cells": [
  {
   "cell_type": "code",
   "execution_count": 46,
   "metadata": {
    "collapsed": true
   },
   "outputs": [],
   "source": [
    "\"\"\"importing url and JSON tools for OMDB retrieval, and pandas for data analysis\"\"\"\n",
    "from urllib.request import urlopen\n",
    "import json\n",
    "import pandas as df\n",
    "\n",
    "def get_api_key(filepath):\n",
    "    \"\"\"Retrieve the current OMDB API key, returns a string\"\"\"\n",
    "    with open(filepath, 'r') as api_file:\n",
    "        return api_file.readline().replace('\\n', '').replace('\\r', '')\n",
    "\n",
    "def get_omdb_data(imdb_id=None, title=None, content_type=None, plot='short', return_type='json'):\n",
    "    \"\"\"Retrieve data from OMDB given parameter set, returns a JSON file\"\"\"\n",
    "    search_string = \"http://www.omdbapi.com/?apikey=\" + get_api_key('omdb_api_key.txt')\n",
    "    if imdb_id is None:\n",
    "        if title is None:\n",
    "            raise ValueError(\"Either a title (t) or ID (i) must be specified\")\n",
    "        else:\n",
    "            search_string += \"&t=\" + title.replace(' ', '+')\n",
    "    else:\n",
    "        search_string += \"&i=\" + imdb_id\n",
    "        \n",
    "    if content_type is not None:\n",
    "        search_string += \"&type=\" + content_type\n",
    "        \n",
    "    search_string += \"&plot=\" + plot + \"&r=\" + return_type\n",
    "    \n",
    "    with urlopen(search_string) as url:\n",
    "        return json.loads(url.read().decode())"
   ]
  },
  {
   "cell_type": "code",
   "execution_count": null,
   "metadata": {},
   "outputs": [],
   "source": [
    "TEST_TITLES = ['The Office', 'Parks and Recreation', 'Game of Thrones']\n",
    "\n",
    "RAW_DATA = []\n",
    "\n",
    "for T in TEST_TITLES:\n",
    "    RAW_DATA.append(get_omdb_data(title=T, plot='full'))\n",
    "    \n",
    "DATA = df.DataFrame(RAW_DATA)"
   ]
  },
  {
   "cell_type": "code",
   "execution_count": null,
   "metadata": {
    "collapsed": true
   },
   "outputs": [],
   "source": []
  }
 ],
 "metadata": {
  "kernelspec": {
   "display_name": "Python 3",
   "language": "python",
   "name": "python3"
  },
  "language_info": {
   "codemirror_mode": {
    "name": "ipython",
    "version": 3
   },
   "file_extension": ".py",
   "mimetype": "text/x-python",
   "name": "python",
   "nbconvert_exporter": "python",
   "pygments_lexer": "ipython3",
   "version": "3.6.3"
  }
 },
 "nbformat": 4,
 "nbformat_minor": 2
}
